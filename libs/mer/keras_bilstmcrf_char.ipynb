{
 "cells": [
  {
   "cell_type": "code",
   "execution_count": 1,
   "metadata": {},
   "outputs": [
    {
     "name": "stdout",
     "output_type": "stream",
     "text": [
      "Tue Feb 23 09:18:37 2021       \n",
      "+-----------------------------------------------------------------------------+\n",
      "| NVIDIA-SMI 450.102.04   Driver Version: 450.102.04   CUDA Version: 11.0     |\n",
      "|-------------------------------+----------------------+----------------------+\n",
      "| GPU  Name        Persistence-M| Bus-Id        Disp.A | Volatile Uncorr. ECC |\n",
      "| Fan  Temp  Perf  Pwr:Usage/Cap|         Memory-Usage | GPU-Util  Compute M. |\n",
      "|                               |                      |               MIG M. |\n",
      "|===============================+======================+======================|\n",
      "|   0  GeForce RTX 208...  Off  | 00000000:01:00.0 Off |                  N/A |\n",
      "| 27%   29C    P8    16W / 250W |  10451MiB / 11019MiB |      0%      Default |\n",
      "|                               |                      |                  N/A |\n",
      "+-------------------------------+----------------------+----------------------+\n",
      "|   1  GeForce RTX 208...  Off  | 00000000:02:00.0 Off |                  N/A |\n",
      "| 27%   28C    P8     1W / 250W |      6MiB / 11019MiB |      0%      Default |\n",
      "|                               |                      |                  N/A |\n",
      "+-------------------------------+----------------------+----------------------+\n",
      "                                                                               \n",
      "+-----------------------------------------------------------------------------+\n",
      "| Processes:                                                                  |\n",
      "|  GPU   GI   CI        PID   Type   Process name                  GPU Memory |\n",
      "|        ID   ID                                                   Usage      |\n",
      "|=============================================================================|\n",
      "|    0   N/A  N/A       970      G   /usr/lib/xorg/Xorg                  9MiB |\n",
      "|    0   N/A  N/A      1112      G   /usr/bin/gnome-shell               14MiB |\n",
      "|    0   N/A  N/A     23238      C   ...nvs/textmining/bin/python    10423MiB |\n",
      "|    1   N/A  N/A       970      G   /usr/lib/xorg/Xorg                  4MiB |\n",
      "+-----------------------------------------------------------------------------+\n"
     ]
    }
   ],
   "source": [
    "!nvidia-smi"
   ]
  },
  {
   "cell_type": "code",
   "execution_count": 2,
   "metadata": {},
   "outputs": [],
   "source": [
    "import os\n",
    "os.environ[\"CUDA_VISIBLE_DEVICES\"] = \"1\""
   ]
  },
  {
   "cell_type": "code",
   "execution_count": 3,
   "metadata": {},
   "outputs": [],
   "source": [
    "import tensorflow as tf\n",
    "from tensorflow.keras.preprocessing.sequence import pad_sequences"
   ]
  },
  {
   "cell_type": "code",
   "execution_count": 4,
   "metadata": {},
   "outputs": [],
   "source": [
    "from sklearn.metrics import accuracy_score, precision_score, recall_score, f1_score"
   ]
  },
  {
   "cell_type": "code",
   "execution_count": 5,
   "metadata": {},
   "outputs": [
    {
     "data": {
      "text/plain": [
       "'2.3.0'"
      ]
     },
     "execution_count": 5,
     "metadata": {},
     "output_type": "execute_result"
    }
   ],
   "source": [
    "tf.__version__"
   ]
  },
  {
   "cell_type": "code",
   "execution_count": 6,
   "metadata": {},
   "outputs": [
    {
     "data": {
      "text/plain": [
       "[PhysicalDevice(name='/physical_device:GPU:0', device_type='GPU')]"
      ]
     },
     "execution_count": 6,
     "metadata": {},
     "output_type": "execute_result"
    }
   ],
   "source": [
    "tf.config.list_physical_devices('GPU')"
   ]
  },
  {
   "cell_type": "code",
   "execution_count": 7,
   "metadata": {},
   "outputs": [],
   "source": [
    "import numpy as np\n",
    "from pathlib import Path\n",
    "import pickle\n",
    "\n",
    "from collections import Counter\n",
    "from gensim.models import Word2Vec, FastText\n",
    "\n",
    "from sklearn.model_selection import train_test_split"
   ]
  },
  {
   "cell_type": "markdown",
   "metadata": {},
   "source": [
    "## 0. preprocessing"
   ]
  },
  {
   "cell_type": "markdown",
   "metadata": {},
   "source": [
    "### build the pretrained_word2vec "
   ]
  },
  {
   "cell_type": "code",
   "execution_count": 8,
   "metadata": {},
   "outputs": [],
   "source": [
    "# load w2v model\n",
    "w2v_model_cb = Word2Vec.load(\"/home/MOFdictionary/libs/word2vec/word2vec_cbow/word2vec_cbow.model\")\n",
    "w2v_model_sg = Word2Vec.load(\"/home/MOFdictionary/libs/word2vec/word2vec_skipgram/word2vec_skipgram.model\")\n",
    "\n",
    "ft_model_cb = Word2Vec.load(\"/home/MOFdictionary/libs/word2vec/fasttext_cbow/fasttext_cbow.model\")\n",
    "ft_model_sg = Word2Vec.load(\"/home/MOFdictionary/libs/word2vec/fasttext_skipgram/fasttext_skipgram.model\")\n",
    "\n",
    "wv_model = w2v_model_sg"
   ]
  },
  {
   "cell_type": "code",
   "execution_count": 9,
   "metadata": {},
   "outputs": [
    {
     "data": {
      "text/plain": [
       "105075"
      ]
     },
     "execution_count": 9,
     "metadata": {},
     "output_type": "execute_result"
    }
   ],
   "source": [
    "len(wv_model.wv.vocab)"
   ]
  },
  {
   "cell_type": "code",
   "execution_count": 10,
   "metadata": {},
   "outputs": [
    {
     "data": {
      "text/plain": [
       "TensorShape([105077, 100])"
      ]
     },
     "execution_count": 10,
     "metadata": {},
     "output_type": "execute_result"
    }
   ],
   "source": [
    "dim_embedding = 100\n",
    "embedding_matrix = tf.concat([tf.zeros((2, dim_embedding)), wv_model.wv.vectors], axis=0)\n",
    "embedding_matrix.shape"
   ]
  },
  {
   "cell_type": "code",
   "execution_count": 11,
   "metadata": {},
   "outputs": [
    {
     "data": {
      "text/plain": [
       "105077"
      ]
     },
     "execution_count": 11,
     "metadata": {},
     "output_type": "execute_result"
    }
   ],
   "source": [
    "words = [\"<PAD>\",\"<UNK>\"] + wv_model.wv.index2word\n",
    "len(words)"
   ]
  },
  {
   "cell_type": "markdown",
   "metadata": {},
   "source": [
    "### make vocab"
   ]
  },
  {
   "cell_type": "code",
   "execution_count": 12,
   "metadata": {},
   "outputs": [],
   "source": [
    "word2id = {}\n",
    "for i, word in enumerate(words):\n",
    "    word2id[word] = i\n",
    "    \n",
    "id2word = {}\n",
    "for i, word in enumerate(words):\n",
    "    id2word[i] = word"
   ]
  },
  {
   "cell_type": "code",
   "execution_count": 13,
   "metadata": {},
   "outputs": [],
   "source": [
    "#pickle.dump(word2id, open(\"/home/MOFdictionary/libs/mer/vocab/word2id\",\"wb\"))\n",
    "#pickle.dump(id2word, open(\"/home/MOFdictionary/libs/mer/vocab/id2word\",\"wb\"))"
   ]
  },
  {
   "cell_type": "code",
   "execution_count": 14,
   "metadata": {},
   "outputs": [],
   "source": [
    "def get_bio_tags(tags):\n",
    "    \n",
    "    bio_tags = []\n",
    "    \n",
    "    for i, tag in enumerate(tags):\n",
    "        if i == 0: # B-\n",
    "            \n",
    "            if tag == 1: #pre\n",
    "                bio_tag = 3 #B-pre\n",
    "                \n",
    "            elif tag == 2: #etc\n",
    "                bio_tag = 5 #B-Etc\n",
    "                \n",
    "            elif tag == 3: #tar\n",
    "                bio_tag = 1 #B-tar\n",
    "                \n",
    "            else:\n",
    "                bio_tag = 0\n",
    "        \n",
    "        else:\n",
    "            if tag == 1: #pre\n",
    "                if tags[i-1] == 1:\n",
    "                    bio_tag = 4 #I-pre\n",
    "                else:\n",
    "                    bio_tag = 3 #B-pre\n",
    "                    \n",
    "            elif tag == 2: #etc\n",
    "                if tags[i-1] == 2:\n",
    "                    bio_tag = 6 #I-etc\n",
    "                else:\n",
    "                    bio_tag = 5 #B-etc\n",
    "                    \n",
    "            elif tag == 3: #tar\n",
    "                if tags[i-1] == 3:\n",
    "                    bio_tag = 2 # I-tar\n",
    "                else:\n",
    "                    bio_tag = 1 # B-atr\n",
    "                    \n",
    "            else:\n",
    "                bio_tag = 0\n",
    "        \n",
    "        bio_tags.append(bio_tag)\n",
    "    \n",
    "    return bio_tags         "
   ]
  },
  {
   "cell_type": "code",
   "execution_count": 15,
   "metadata": {},
   "outputs": [],
   "source": [
    "sents = []\n",
    "map_sents = []\n",
    "bio_tags = []\n",
    "for filepath in Path(\"/home/MOFdictionary/example/Dataset_MER/\").glob(\"*.sav\"):\n",
    "    ners = pickle.load(open(filepath,\"rb\"))\n",
    "    for ner in ners: #ners = [[(word,tag),(word,tag),,,],[],,,]\n",
    "        words, tags = zip(*ner)\n",
    "        sents.append(words)\n",
    "        map_sents.append(list(map(lambda x: word2id[x] if x in word2id else 1, words)))\n",
    "        bio_tags.append(get_bio_tags(tags)) "
   ]
  },
  {
   "cell_type": "code",
   "execution_count": 16,
   "metadata": {},
   "outputs": [
    {
     "name": "stdout",
     "output_type": "stream",
     "text": [
      "(11173, 100) (11173, 100)\n"
     ]
    }
   ],
   "source": [
    "max_length = 100\n",
    "num_tags = 7\n",
    "\n",
    "x_data = pad_sequences(map_sents, maxlen=max_length, padding=\"post\")\n",
    "y_data = pad_sequences(bio_tags, maxlen=max_length, padding=\"post\")\n",
    "#y_data = to_categorical(y_data, num_classes=num_tags) # make one-hot sequence\n",
    "\n",
    "print(x_data.shape, y_data.shape)"
   ]
  },
  {
   "cell_type": "code",
   "execution_count": 17,
   "metadata": {},
   "outputs": [
    {
     "name": "stdout",
     "output_type": "stream",
     "text": [
      "(8938, 100) (1117, 100) (8938, 100) (1117, 100)\n"
     ]
    }
   ],
   "source": [
    "x_train, x_test_val, y_train, y_test_val = train_test_split(x_data, y_data, test_size=0.2, random_state=42)\n",
    "x_test, x_val, y_test, y_val = train_test_split(x_test_val, y_test_val, test_size=0.5, random_state=42)\n",
    "print(x_train.shape, x_test.shape, y_train.shape, y_test.shape)"
   ]
  },
  {
   "cell_type": "markdown",
   "metadata": {},
   "source": [
    "# 2. character Embedding"
   ]
  },
  {
   "cell_type": "code",
   "execution_count": 19,
   "metadata": {},
   "outputs": [
    {
     "name": "stdout",
     "output_type": "stream",
     "text": [
      "# of charlist = 101\n"
     ]
    }
   ],
   "source": [
    "## making charlist\n",
    "charlist = \"abcdefghijklmnopqrstuvwxyzABCDEFGHIJKLMNOPQRSTUVWXYZ0123456789 ~†‡°·-,;.!?:’/\\|_@#$%ˆ&*˜‘+-=()[]{}<>\"\n",
    "\n",
    "# char2idx\n",
    "char2id = {}\n",
    "\n",
    "char2id[\"PAD\"] = 0\n",
    "char2id[\"UNK\"] = 1\n",
    "for i, char in enumerate(charlist):\n",
    "    char2id[char] = i+2\n",
    "print(f\"# of charlist = {len(char2id)}\")"
   ]
  },
  {
   "cell_type": "code",
   "execution_count": 20,
   "metadata": {},
   "outputs": [],
   "source": [
    "#pickle.dump(char2id, open(\"/home/MOFdictionary/libs/mer/vocab/char2id\",\"wb\"))"
   ]
  },
  {
   "cell_type": "code",
   "execution_count": 21,
   "metadata": {},
   "outputs": [],
   "source": [
    "def get_pad_map_char_sequences(x_data):\n",
    "    x_data_char  = np.empty([x_data.shape[0], x_data.shape[1], 30])\n",
    "    for i, sent in enumerate(x_data):\n",
    "\n",
    "        map_sent = []\n",
    "\n",
    "        for word in sent:\n",
    "\n",
    "            map_word = list(map(lambda x : char2id[x] if x in char2id else 1, id2word[word]))\n",
    "            if map_word == [100,43, 28, 31,101]: #<PAD> -> 0\n",
    "                map_word = [0]\n",
    "            map_sent.append(map_word)\n",
    "\n",
    "        x_data_char[i] = pad_sequences(map_sent,padding=\"post\",maxlen=30)\n",
    "    x_data_char.shape\n",
    "    return x_data_char"
   ]
  },
  {
   "cell_type": "code",
   "execution_count": 22,
   "metadata": {},
   "outputs": [
    {
     "data": {
      "text/plain": [
       "((8938, 100, 30), (1117, 100, 30), (1118, 100, 30))"
      ]
     },
     "execution_count": 22,
     "metadata": {},
     "output_type": "execute_result"
    }
   ],
   "source": [
    "x_train_char = get_pad_map_char_sequences(x_train)\n",
    "x_test_char = get_pad_map_char_sequences(x_test)\n",
    "x_val_char = get_pad_map_char_sequences(x_val)\n",
    "x_train_char.shape, x_test_char.shape, x_val_char.shape"
   ]
  },
  {
   "cell_type": "markdown",
   "metadata": {},
   "source": [
    "# Keras"
   ]
  },
  {
   "cell_type": "code",
   "execution_count": 18,
   "metadata": {},
   "outputs": [],
   "source": [
    "from tf2crf import CRF, ModelWithCRFLoss\n",
    "from tensorflow.keras.layers import Input, Embedding, Bidirectional, RNN, LSTMCell, TimeDistributed, Concatenate, Dense"
   ]
  },
  {
   "cell_type": "code",
   "execution_count": 19,
   "metadata": {},
   "outputs": [],
   "source": [
    "def mask_scores(y_true, y_pred, lens_text):\n",
    "    mask = tf.sequence_mask(lens_text, maxlen=100)\n",
    "    m = tf.keras.metrics.Accuracy()\n",
    "    acc = m(y_true, y_pred, sample_weight=mask)\n",
    "    # precision, recall, f1 for multi-class\n",
    "    \n",
    "    masked_y_true = y_true[mask]\n",
    "    masked_y_pred = y_pred[mask]\n",
    "    accuracy = accuracy_score(masked_y_true, masked_y_pred)\n",
    "    precision = precision_score(masked_y_true, masked_y_pred, average=None)\n",
    "    recall = recall_score(masked_y_true, masked_y_pred, average=None)\n",
    "    f1 = f1_score(masked_y_true, masked_y_pred, average=None)\n",
    "    return acc.numpy(), precision, recall, f1"
   ]
  },
  {
   "cell_type": "markdown",
   "metadata": {},
   "source": [
    "## <span style=\"color:red\">BILSTMCRF</span>"
   ]
  },
  {
   "cell_type": "code",
   "execution_count": 20,
   "metadata": {},
   "outputs": [
    {
     "name": "stdout",
     "output_type": "stream",
     "text": [
      "Model: \"functional_1\"\n",
      "_________________________________________________________________\n",
      "Layer (type)                 Output Shape              Param #   \n",
      "=================================================================\n",
      "input_1 (InputLayer)         [(None, 100)]             0         \n",
      "_________________________________________________________________\n",
      "embedding (Embedding)        (None, 100, 100)          10507700  \n",
      "_________________________________________________________________\n",
      "bidirectional (Bidirectional (None, 100, 100)          60400     \n",
      "_________________________________________________________________\n",
      "time_distributed (TimeDistri (None, 100, 7)            707       \n",
      "_________________________________________________________________\n",
      "crf (CRF)                    ((None, 100), (None, 100, 51        \n",
      "=================================================================\n",
      "Total params: 10,568,858\n",
      "Trainable params: 61,156\n",
      "Non-trainable params: 10,507,702\n",
      "_________________________________________________________________\n"
     ]
    }
   ],
   "source": [
    "num_vocab = embedding_matrix.shape[0]\n",
    "dim_embedding = embedding_matrix.shape[1]\n",
    "max_length = 100\n",
    "num_tags = 7\n",
    "\n",
    "crf = CRF(dtype=tf.float32)\n",
    "\n",
    "input_word = Input(shape=(100,))\n",
    "\n",
    "x = Embedding(input_dim=num_vocab, output_dim=dim_embedding, input_length=max_length, weights=[embedding_matrix], trainable=False, mask_zero=True)(input_word)\n",
    "x = Bidirectional(RNN(LSTMCell(units=50, recurrent_dropout=0.3),return_sequences=True))(x)\n",
    "x = TimeDistributed(Dense(num_tags))(x)\n",
    "x = crf(x)\n",
    "\n",
    "output_ = x #  y_pred, x, lens_text, chain_kernel\n",
    "\n",
    "base_model = tf.keras.Model(input_word,output_)\n",
    "base_model.summary()\n",
    "bilstmcrf = ModelWithCRFLoss(base_model)"
   ]
  },
  {
   "cell_type": "code",
   "execution_count": 21,
   "metadata": {},
   "outputs": [],
   "source": [
    "bilstmcrf.compile(optimizer=tf.keras.optimizers.Adam())"
   ]
  },
  {
   "cell_type": "code",
   "execution_count": 22,
   "metadata": {
    "collapsed": true,
    "jupyter": {
     "outputs_hidden": true
    }
   },
   "outputs": [
    {
     "name": "stdout",
     "output_type": "stream",
     "text": [
      "Epoch 1/50\n",
      "90/90 [==============================] - 30s 329ms/step - crf_loss: 8.2356 - accuracy: 0.9215 - val_crf_loss_val: 1.7365 - val_val_accuracy: 0.9608\n",
      "Epoch 2/50\n",
      "90/90 [==============================] - 29s 324ms/step - crf_loss: 3.2710 - accuracy: 0.9593 - val_crf_loss_val: 0.8436 - val_val_accuracy: 0.9681\n",
      "Epoch 3/50\n",
      "90/90 [==============================] - 29s 324ms/step - crf_loss: 2.0237 - accuracy: 0.9737 - val_crf_loss_val: 0.4748 - val_val_accuracy: 0.9824\n",
      "Epoch 4/50\n",
      "90/90 [==============================] - 29s 321ms/step - crf_loss: 1.4116 - accuracy: 0.9822 - val_crf_loss_val: 0.3345 - val_val_accuracy: 0.9857\n",
      "Epoch 5/50\n",
      "90/90 [==============================] - 29s 325ms/step - crf_loss: 1.1174 - accuracy: 0.9851 - val_crf_loss_val: 0.2777 - val_val_accuracy: 0.9881\n",
      "Epoch 6/50\n",
      "90/90 [==============================] - 29s 320ms/step - crf_loss: 0.9347 - accuracy: 0.9874 - val_crf_loss_val: 0.2613 - val_val_accuracy: 0.9900\n",
      "Epoch 7/50\n",
      "90/90 [==============================] - 29s 321ms/step - crf_loss: 0.8190 - accuracy: 0.9890 - val_crf_loss_val: 0.2557 - val_val_accuracy: 0.9910\n",
      "Epoch 8/50\n",
      "90/90 [==============================] - 29s 325ms/step - crf_loss: 0.7693 - accuracy: 0.9897 - val_crf_loss_val: 0.2480 - val_val_accuracy: 0.9914\n",
      "Epoch 9/50\n",
      "90/90 [==============================] - 29s 321ms/step - crf_loss: 0.6965 - accuracy: 0.9905 - val_crf_loss_val: 0.2357 - val_val_accuracy: 0.9925\n",
      "Epoch 10/50\n",
      "90/90 [==============================] - 29s 320ms/step - crf_loss: 0.6454 - accuracy: 0.9913 - val_crf_loss_val: 0.2365 - val_val_accuracy: 0.9930\n",
      "Epoch 11/50\n",
      "90/90 [==============================] - 29s 322ms/step - crf_loss: 0.6013 - accuracy: 0.9920 - val_crf_loss_val: 0.2029 - val_val_accuracy: 0.9934\n",
      "Epoch 12/50\n",
      "90/90 [==============================] - 29s 321ms/step - crf_loss: 0.5955 - accuracy: 0.9923 - val_crf_loss_val: 0.1889 - val_val_accuracy: 0.9936\n",
      "Epoch 13/50\n",
      "90/90 [==============================] - 29s 322ms/step - crf_loss: 0.5564 - accuracy: 0.9926 - val_crf_loss_val: 0.2401 - val_val_accuracy: 0.9938\n",
      "Epoch 14/50\n",
      "90/90 [==============================] - 29s 324ms/step - crf_loss: 0.5340 - accuracy: 0.9928 - val_crf_loss_val: 0.1814 - val_val_accuracy: 0.9938\n",
      "Epoch 15/50\n",
      "90/90 [==============================] - 29s 323ms/step - crf_loss: 0.5125 - accuracy: 0.9931 - val_crf_loss_val: 0.3127 - val_val_accuracy: 0.9940\n",
      "Epoch 16/50\n",
      "90/90 [==============================] - 29s 322ms/step - crf_loss: 0.4980 - accuracy: 0.9931 - val_crf_loss_val: 0.2187 - val_val_accuracy: 0.9944\n",
      "Epoch 17/50\n",
      "90/90 [==============================] - 29s 321ms/step - crf_loss: 0.4753 - accuracy: 0.9937 - val_crf_loss_val: 0.1668 - val_val_accuracy: 0.9948\n",
      "Epoch 18/50\n",
      "90/90 [==============================] - 29s 321ms/step - crf_loss: 0.4638 - accuracy: 0.9940 - val_crf_loss_val: 0.2991 - val_val_accuracy: 0.9950\n",
      "Epoch 19/50\n",
      "90/90 [==============================] - 29s 322ms/step - crf_loss: 0.4524 - accuracy: 0.9940 - val_crf_loss_val: 0.2622 - val_val_accuracy: 0.9951\n",
      "Epoch 20/50\n",
      "90/90 [==============================] - 29s 323ms/step - crf_loss: 0.4399 - accuracy: 0.9942 - val_crf_loss_val: 0.1777 - val_val_accuracy: 0.9952\n",
      "Epoch 21/50\n",
      "90/90 [==============================] - 29s 323ms/step - crf_loss: 0.4298 - accuracy: 0.9944 - val_crf_loss_val: 0.2250 - val_val_accuracy: 0.9950\n",
      "Epoch 22/50\n",
      "90/90 [==============================] - 29s 322ms/step - crf_loss: 0.4173 - accuracy: 0.9946 - val_crf_loss_val: 0.1917 - val_val_accuracy: 0.9950\n",
      "Epoch 23/50\n",
      "90/90 [==============================] - 29s 321ms/step - crf_loss: 0.3937 - accuracy: 0.9947 - val_crf_loss_val: 0.1721 - val_val_accuracy: 0.9949\n",
      "Epoch 24/50\n",
      "90/90 [==============================] - 29s 323ms/step - crf_loss: 0.3981 - accuracy: 0.9945 - val_crf_loss_val: 0.2212 - val_val_accuracy: 0.9952\n",
      "Epoch 25/50\n",
      "90/90 [==============================] - 29s 325ms/step - crf_loss: 0.3773 - accuracy: 0.9949 - val_crf_loss_val: 0.1578 - val_val_accuracy: 0.9952\n",
      "Epoch 26/50\n",
      "90/90 [==============================] - 29s 324ms/step - crf_loss: 0.3714 - accuracy: 0.9951 - val_crf_loss_val: 0.2542 - val_val_accuracy: 0.9955\n",
      "Epoch 27/50\n",
      "90/90 [==============================] - 29s 322ms/step - crf_loss: 0.3628 - accuracy: 0.9951 - val_crf_loss_val: 0.2063 - val_val_accuracy: 0.9951\n",
      "Epoch 28/50\n",
      "90/90 [==============================] - 29s 323ms/step - crf_loss: 0.3583 - accuracy: 0.9951 - val_crf_loss_val: 0.2881 - val_val_accuracy: 0.9950\n",
      "Epoch 29/50\n",
      "90/90 [==============================] - 29s 324ms/step - crf_loss: 0.3379 - accuracy: 0.9951 - val_crf_loss_val: 0.2942 - val_val_accuracy: 0.9952\n",
      "Epoch 30/50\n",
      "90/90 [==============================] - 29s 324ms/step - crf_loss: 0.3349 - accuracy: 0.9954 - val_crf_loss_val: 0.2084 - val_val_accuracy: 0.9951\n",
      "Epoch 31/50\n",
      "90/90 [==============================] - 29s 323ms/step - crf_loss: 0.3293 - accuracy: 0.9951 - val_crf_loss_val: 0.2443 - val_val_accuracy: 0.9952\n",
      "Epoch 32/50\n",
      "90/90 [==============================] - 29s 322ms/step - crf_loss: 0.3189 - accuracy: 0.9956 - val_crf_loss_val: 0.1990 - val_val_accuracy: 0.9953\n",
      "Epoch 33/50\n",
      "90/90 [==============================] - 29s 322ms/step - crf_loss: 0.3237 - accuracy: 0.9954 - val_crf_loss_val: 0.4109 - val_val_accuracy: 0.9950\n",
      "Epoch 34/50\n",
      "90/90 [==============================] - 29s 322ms/step - crf_loss: 0.3106 - accuracy: 0.9955 - val_crf_loss_val: 0.1623 - val_val_accuracy: 0.9954\n",
      "Epoch 35/50\n",
      "90/90 [==============================] - 29s 323ms/step - crf_loss: 0.2946 - accuracy: 0.9957 - val_crf_loss_val: 0.3926 - val_val_accuracy: 0.9954\n",
      "Epoch 36/50\n",
      "90/90 [==============================] - 29s 325ms/step - crf_loss: 0.2856 - accuracy: 0.9961 - val_crf_loss_val: 0.2896 - val_val_accuracy: 0.9953\n",
      "Epoch 37/50\n",
      "90/90 [==============================] - 29s 322ms/step - crf_loss: 0.2817 - accuracy: 0.9959 - val_crf_loss_val: 0.2307 - val_val_accuracy: 0.9954\n",
      "Epoch 38/50\n",
      "90/90 [==============================] - 29s 323ms/step - crf_loss: 0.2764 - accuracy: 0.9961 - val_crf_loss_val: 0.2912 - val_val_accuracy: 0.9953\n",
      "Epoch 39/50\n",
      "90/90 [==============================] - 29s 325ms/step - crf_loss: 0.2715 - accuracy: 0.9962 - val_crf_loss_val: 0.1750 - val_val_accuracy: 0.9952\n",
      "Epoch 40/50\n",
      "90/90 [==============================] - 29s 322ms/step - crf_loss: 0.2702 - accuracy: 0.9960 - val_crf_loss_val: 0.1787 - val_val_accuracy: 0.9956\n",
      "Epoch 41/50\n",
      "90/90 [==============================] - 29s 323ms/step - crf_loss: 0.2542 - accuracy: 0.9962 - val_crf_loss_val: 0.3003 - val_val_accuracy: 0.9957\n",
      "Epoch 42/50\n",
      "90/90 [==============================] - 29s 322ms/step - crf_loss: 0.2470 - accuracy: 0.9964 - val_crf_loss_val: 0.3231 - val_val_accuracy: 0.9956\n",
      "Epoch 43/50\n",
      "90/90 [==============================] - 29s 323ms/step - crf_loss: 0.2421 - accuracy: 0.9965 - val_crf_loss_val: 0.2736 - val_val_accuracy: 0.9953\n",
      "Epoch 44/50\n",
      "90/90 [==============================] - 29s 326ms/step - crf_loss: 0.2416 - accuracy: 0.9966 - val_crf_loss_val: 0.2243 - val_val_accuracy: 0.9957\n",
      "Epoch 45/50\n",
      "90/90 [==============================] - 29s 321ms/step - crf_loss: 0.2309 - accuracy: 0.9965 - val_crf_loss_val: 0.2757 - val_val_accuracy: 0.9955\n",
      "Epoch 46/50\n",
      "90/90 [==============================] - 29s 324ms/step - crf_loss: 0.2200 - accuracy: 0.9968 - val_crf_loss_val: 0.3416 - val_val_accuracy: 0.9954\n",
      "Epoch 47/50\n",
      "90/90 [==============================] - 29s 321ms/step - crf_loss: 0.2240 - accuracy: 0.9968 - val_crf_loss_val: 0.3117 - val_val_accuracy: 0.9952\n",
      "Epoch 48/50\n",
      "90/90 [==============================] - 29s 322ms/step - crf_loss: 0.2289 - accuracy: 0.9967 - val_crf_loss_val: 0.1113 - val_val_accuracy: 0.9952\n",
      "Epoch 49/50\n",
      "90/90 [==============================] - 29s 325ms/step - crf_loss: 0.2105 - accuracy: 0.9970 - val_crf_loss_val: 0.2460 - val_val_accuracy: 0.9953\n",
      "Epoch 50/50\n",
      "90/90 [==============================] - 29s 324ms/step - crf_loss: 0.2062 - accuracy: 0.9969 - val_crf_loss_val: 0.2763 - val_val_accuracy: 0.9952\n"
     ]
    },
    {
     "data": {
      "text/plain": [
       "<tensorflow.python.keras.callbacks.History at 0x7f22f84432e8>"
      ]
     },
     "execution_count": 22,
     "metadata": {},
     "output_type": "execute_result"
    }
   ],
   "source": [
    "bilstmcrf.fit(x_train, y_train, batch_size=100, epochs=50, validation_data=(x_val, y_val))"
   ]
  },
  {
   "cell_type": "code",
   "execution_count": 23,
   "metadata": {},
   "outputs": [
    {
     "data": {
      "text/plain": [
       "(0.99201393,\n",
       " array([0.99829794, 0.81793478, 0.57446809, 0.93447293, 0.9       ,\n",
       "        0.88142292, 0.87179487]),\n",
       " array([0.99495335, 0.94357367, 0.9       , 0.93447293, 0.91304348,\n",
       "        0.91393443, 0.90666667]),\n",
       " array([0.99662284, 0.87627365, 0.7012987 , 0.93447293, 0.90647482,\n",
       "        0.89738431, 0.88888889]))"
      ]
     },
     "execution_count": 23,
     "metadata": {},
     "output_type": "execute_result"
    }
   ],
   "source": [
    "y_pred, _, lens_text, _ = bilstmcrf(x_test)\n",
    "mask_scores(y_test, y_pred, lens_text)"
   ]
  },
  {
   "cell_type": "markdown",
   "metadata": {},
   "source": [
    "## <span style=\"color:red\">BILSTMCRF-Char</span>"
   ]
  },
  {
   "cell_type": "code",
   "execution_count": 25,
   "metadata": {},
   "outputs": [
    {
     "name": "stdout",
     "output_type": "stream",
     "text": [
      "Model: \"functional_1\"\n",
      "__________________________________________________________________________________________________\n",
      "Layer (type)                    Output Shape         Param #     Connected to                     \n",
      "==================================================================================================\n",
      "input_1 (InputLayer)            [(None, None, 30)]   0                                            \n",
      "__________________________________________________________________________________________________\n",
      "embedding (Embedding)           (None, None, 30, 100 10200       input_1[0][0]                    \n",
      "__________________________________________________________________________________________________\n",
      "input_2 (InputLayer)            [(None, None)]       0                                            \n",
      "__________________________________________________________________________________________________\n",
      "time_distributed (TimeDistribut (None, None, 100)    60400       embedding[0][0]                  \n",
      "__________________________________________________________________________________________________\n",
      "embedding_1 (Embedding)         (None, None, 100)    10507700    input_2[0][0]                    \n",
      "__________________________________________________________________________________________________\n",
      "time_distributed_1 (TimeDistrib (None, None, 50)     5050        time_distributed[0][0]           \n",
      "__________________________________________________________________________________________________\n",
      "concatenate (Concatenate)       (None, None, 150)    0           embedding_1[0][0]                \n",
      "                                                                 time_distributed_1[0][0]         \n",
      "__________________________________________________________________________________________________\n",
      "bidirectional_1 (Bidirectional) (None, None, 100)    80400       concatenate[0][0]                \n",
      "__________________________________________________________________________________________________\n",
      "time_distributed_2 (TimeDistrib (None, None, 7)      707         bidirectional_1[0][0]            \n",
      "__________________________________________________________________________________________________\n",
      "crf (CRF)                       ((None, None), (None 51          time_distributed_2[0][0]         \n",
      "==================================================================================================\n",
      "Total params: 10,664,508\n",
      "Trainable params: 156,806\n",
      "Non-trainable params: 10,507,702\n",
      "__________________________________________________________________________________________________\n"
     ]
    }
   ],
   "source": [
    "# word model\n",
    "num_vocab = embedding_matrix.shape[0]\n",
    "dim_embedding = embedding_matrix.shape[1]\n",
    "max_length = 100\n",
    "num_tags = 7\n",
    "\n",
    "\n",
    "# Char model\n",
    "charlist = \"abcdefghijklmnopqrstuvwxyzABCDEFGHIJKLMNOPQRSTUVWXYZ0123456789 ~†‡°·-,;.!?:’/\\|_@#$%ˆ&*˜‘+-=()[]{}<>\"\n",
    "char_max_len = 30\n",
    "char_dim_embedding = 100\n",
    "\n",
    "crf = CRF(dtype=tf.float32)\n",
    "\n",
    "###\n",
    "input_char = Input(shape=(None, 30))\n",
    "\n",
    "x_char = Embedding(input_dim=len(charlist)+2, output_dim=char_dim_embedding, input_length=char_max_len, trainable=True, mask_zero=True)(input_char)\n",
    "x_char = TimeDistributed(Bidirectional(RNN(LSTMCell(units=50))))(x_char)\n",
    "x_char = TimeDistributed(Dense(units=50))(x_char)\n",
    "# Word model\n",
    "input_word = Input(shape=(None,))\n",
    "\n",
    "x = Embedding(input_dim=num_vocab, output_dim=dim_embedding, input_length=max_length, weights=[embedding_matrix], trainable=False, mask_zero=True)(input_word)\n",
    "\n",
    "# Concat\n",
    "\n",
    "x = Concatenate(axis=-1)([x, x_char])\n",
    "\n",
    "\n",
    "x = Bidirectional(RNN(LSTMCell(units=50, recurrent_dropout=0.3),return_sequences=True))(x)\n",
    "x = TimeDistributed(Dense(num_tags))(x)\n",
    "x = crf(x)\n",
    "\n",
    "output_ = x #  y_pred, x, lens_text, chain_kernel\n",
    "###\n",
    "base_model = tf.keras.Model([input_word, input_char], output_)\n",
    "base_model.summary()\n",
    "bilstmcrf_char = ModelWithCRFLoss(base_model)"
   ]
  },
  {
   "cell_type": "code",
   "execution_count": 26,
   "metadata": {},
   "outputs": [],
   "source": [
    "bilstmcrf_char.compile(optimizer=tf.keras.optimizers.Adam())"
   ]
  },
  {
   "cell_type": "code",
   "execution_count": 28,
   "metadata": {},
   "outputs": [],
   "source": [
    "checkpoint_filepath = \"./keras/CallBacks/checkpoint\"\n",
    "checkpoint = tf.keras.callbacks.ModelCheckpoint(filepath=checkpoint_filepath, mode='min', monitor='crf_loss_val', save_best_only=False)\n",
    "callbacks_list = [checkpoint]"
   ]
  },
  {
   "cell_type": "code",
   "execution_count": 29,
   "metadata": {},
   "outputs": [
    {
     "name": "stdout",
     "output_type": "stream",
     "text": [
      "Epoch 1/100\n",
      "90/90 [==============================] - 43s 480ms/step - crf_loss: 7.0671 - accuracy: 0.9386 - val_crf_loss_val: 1.5067 - val_val_accuracy: 0.9609\n",
      "Epoch 2/100\n",
      "90/90 [==============================] - 43s 478ms/step - crf_loss: 2.5990 - accuracy: 0.9667 - val_crf_loss_val: 0.6140 - val_val_accuracy: 0.9779\n",
      "Epoch 3/100\n",
      "90/90 [==============================] - 42s 471ms/step - crf_loss: 1.5150 - accuracy: 0.9806 - val_crf_loss_val: 0.4268 - val_val_accuracy: 0.9860\n",
      "Epoch 4/100\n",
      "90/90 [==============================] - 42s 469ms/step - crf_loss: 1.0859 - accuracy: 0.9865 - val_crf_loss_val: 0.3934 - val_val_accuracy: 0.9890\n",
      "Epoch 5/100\n",
      "90/90 [==============================] - 42s 471ms/step - crf_loss: 0.9189 - accuracy: 0.9889 - val_crf_loss_val: 0.3493 - val_val_accuracy: 0.9909\n",
      "Epoch 6/100\n",
      "90/90 [==============================] - 42s 471ms/step - crf_loss: 0.7631 - accuracy: 0.9903 - val_crf_loss_val: 0.2695 - val_val_accuracy: 0.9917\n",
      "Epoch 7/100\n",
      "90/90 [==============================] - 42s 467ms/step - crf_loss: 0.6617 - accuracy: 0.9912 - val_crf_loss_val: 0.2641 - val_val_accuracy: 0.9923\n",
      "Epoch 8/100\n",
      "90/90 [==============================] - 42s 470ms/step - crf_loss: 0.6219 - accuracy: 0.9922 - val_crf_loss_val: 0.2647 - val_val_accuracy: 0.9926\n",
      "Epoch 9/100\n",
      "90/90 [==============================] - 42s 469ms/step - crf_loss: 0.5368 - accuracy: 0.9930 - val_crf_loss_val: 0.1867 - val_val_accuracy: 0.9934\n",
      "Epoch 10/100\n",
      "90/90 [==============================] - 42s 470ms/step - crf_loss: 0.5040 - accuracy: 0.9934 - val_crf_loss_val: 0.1827 - val_val_accuracy: 0.9932\n",
      "Epoch 11/100\n",
      "90/90 [==============================] - 42s 471ms/step - crf_loss: 0.4869 - accuracy: 0.9936 - val_crf_loss_val: 0.1530 - val_val_accuracy: 0.9942\n",
      "Epoch 12/100\n",
      "90/90 [==============================] - 42s 469ms/step - crf_loss: 0.4575 - accuracy: 0.9938 - val_crf_loss_val: 0.1406 - val_val_accuracy: 0.9944\n",
      "Epoch 13/100\n",
      "90/90 [==============================] - 42s 469ms/step - crf_loss: 0.4270 - accuracy: 0.9941 - val_crf_loss_val: 0.1435 - val_val_accuracy: 0.9945\n",
      "Epoch 14/100\n",
      "90/90 [==============================] - 42s 470ms/step - crf_loss: 0.4204 - accuracy: 0.9942 - val_crf_loss_val: 0.1004 - val_val_accuracy: 0.9940\n",
      "Epoch 15/100\n",
      "90/90 [==============================] - 43s 473ms/step - crf_loss: 0.3948 - accuracy: 0.9946 - val_crf_loss_val: 0.1249 - val_val_accuracy: 0.9950\n",
      "Epoch 16/100\n",
      "90/90 [==============================] - 42s 470ms/step - crf_loss: 0.3850 - accuracy: 0.9947 - val_crf_loss_val: 0.1021 - val_val_accuracy: 0.9950\n",
      "Epoch 17/100\n",
      "90/90 [==============================] - 43s 475ms/step - crf_loss: 0.3740 - accuracy: 0.9949 - val_crf_loss_val: 0.0847 - val_val_accuracy: 0.9952\n",
      "Epoch 18/100\n",
      "90/90 [==============================] - 42s 472ms/step - crf_loss: 0.3504 - accuracy: 0.9951 - val_crf_loss_val: 0.1249 - val_val_accuracy: 0.9953\n",
      "Epoch 19/100\n",
      "90/90 [==============================] - 42s 469ms/step - crf_loss: 0.3658 - accuracy: 0.9952 - val_crf_loss_val: 0.0821 - val_val_accuracy: 0.9955\n",
      "Epoch 20/100\n",
      "90/90 [==============================] - 42s 470ms/step - crf_loss: 0.3273 - accuracy: 0.9954 - val_crf_loss_val: 0.1646 - val_val_accuracy: 0.9952\n",
      "Epoch 21/100\n",
      "90/90 [==============================] - 42s 468ms/step - crf_loss: 0.3170 - accuracy: 0.9955 - val_crf_loss_val: 0.0898 - val_val_accuracy: 0.9957\n",
      "Epoch 22/100\n",
      "90/90 [==============================] - 42s 470ms/step - crf_loss: 0.3270 - accuracy: 0.9954 - val_crf_loss_val: 0.1067 - val_val_accuracy: 0.9955\n",
      "Epoch 23/100\n",
      "90/90 [==============================] - 42s 470ms/step - crf_loss: 0.3045 - accuracy: 0.9956 - val_crf_loss_val: 0.0758 - val_val_accuracy: 0.9957\n",
      "Epoch 24/100\n",
      "90/90 [==============================] - 42s 470ms/step - crf_loss: 0.2918 - accuracy: 0.9958 - val_crf_loss_val: 0.1543 - val_val_accuracy: 0.9953\n",
      "Epoch 25/100\n",
      "90/90 [==============================] - 42s 467ms/step - crf_loss: 0.2748 - accuracy: 0.9962 - val_crf_loss_val: 0.0727 - val_val_accuracy: 0.9956\n",
      "Epoch 26/100\n",
      "90/90 [==============================] - 42s 469ms/step - crf_loss: 0.2741 - accuracy: 0.9962 - val_crf_loss_val: 0.1577 - val_val_accuracy: 0.9954\n",
      "Epoch 27/100\n",
      "90/90 [==============================] - 42s 472ms/step - crf_loss: 0.2589 - accuracy: 0.9965 - val_crf_loss_val: 0.1100 - val_val_accuracy: 0.9956\n",
      "Epoch 28/100\n",
      "90/90 [==============================] - 42s 470ms/step - crf_loss: 0.2551 - accuracy: 0.9963 - val_crf_loss_val: 0.1393 - val_val_accuracy: 0.9954\n",
      "Epoch 29/100\n",
      "90/90 [==============================] - 42s 470ms/step - crf_loss: 0.2437 - accuracy: 0.9966 - val_crf_loss_val: 0.1177 - val_val_accuracy: 0.9955\n",
      "Epoch 30/100\n",
      "90/90 [==============================] - 42s 470ms/step - crf_loss: 0.2322 - accuracy: 0.9966 - val_crf_loss_val: 0.1452 - val_val_accuracy: 0.9955\n",
      "Epoch 31/100\n",
      "90/90 [==============================] - 42s 468ms/step - crf_loss: 0.2246 - accuracy: 0.9968 - val_crf_loss_val: 0.1821 - val_val_accuracy: 0.9956\n",
      "Epoch 32/100\n",
      "90/90 [==============================] - 42s 468ms/step - crf_loss: 0.2228 - accuracy: 0.9969 - val_crf_loss_val: 0.2327 - val_val_accuracy: 0.9954\n",
      "Epoch 33/100\n",
      "90/90 [==============================] - 42s 469ms/step - crf_loss: 0.2168 - accuracy: 0.9967 - val_crf_loss_val: 0.0915 - val_val_accuracy: 0.9955\n",
      "Epoch 34/100\n",
      "90/90 [==============================] - 42s 469ms/step - crf_loss: 0.2146 - accuracy: 0.9970 - val_crf_loss_val: 0.1400 - val_val_accuracy: 0.9954\n",
      "Epoch 35/100\n",
      "90/90 [==============================] - 42s 470ms/step - crf_loss: 0.1996 - accuracy: 0.9971 - val_crf_loss_val: 0.1246 - val_val_accuracy: 0.9959\n",
      "Epoch 36/100\n",
      "90/90 [==============================] - 42s 470ms/step - crf_loss: 0.1872 - accuracy: 0.9973 - val_crf_loss_val: 0.1563 - val_val_accuracy: 0.9959\n",
      "Epoch 37/100\n",
      "90/90 [==============================] - 42s 469ms/step - crf_loss: 0.1874 - accuracy: 0.9972 - val_crf_loss_val: 0.1553 - val_val_accuracy: 0.9957\n",
      "Epoch 38/100\n",
      "90/90 [==============================] - 42s 466ms/step - crf_loss: 0.1773 - accuracy: 0.9974 - val_crf_loss_val: 0.2208 - val_val_accuracy: 0.9957\n",
      "Epoch 39/100\n",
      "90/90 [==============================] - 42s 469ms/step - crf_loss: 0.1702 - accuracy: 0.9975 - val_crf_loss_val: 0.1144 - val_val_accuracy: 0.9957\n",
      "Epoch 40/100\n",
      "90/90 [==============================] - 42s 468ms/step - crf_loss: 0.1655 - accuracy: 0.9977 - val_crf_loss_val: 0.2361 - val_val_accuracy: 0.9954\n",
      "Epoch 41/100\n",
      "90/90 [==============================] - 42s 469ms/step - crf_loss: 0.1656 - accuracy: 0.9976 - val_crf_loss_val: 0.1697 - val_val_accuracy: 0.9957\n",
      "Epoch 42/100\n",
      "90/90 [==============================] - 42s 471ms/step - crf_loss: 0.1555 - accuracy: 0.9978 - val_crf_loss_val: 0.1670 - val_val_accuracy: 0.9957\n",
      "Epoch 43/100\n",
      "90/90 [==============================] - 42s 468ms/step - crf_loss: 0.1525 - accuracy: 0.9978 - val_crf_loss_val: 0.1249 - val_val_accuracy: 0.9956\n",
      "Epoch 44/100\n",
      "90/90 [==============================] - 42s 467ms/step - crf_loss: 0.1430 - accuracy: 0.9979 - val_crf_loss_val: 0.3000 - val_val_accuracy: 0.9955\n",
      "Epoch 45/100\n",
      "90/90 [==============================] - 42s 468ms/step - crf_loss: 0.1443 - accuracy: 0.9979 - val_crf_loss_val: 0.2588 - val_val_accuracy: 0.9954\n",
      "Epoch 46/100\n",
      "90/90 [==============================] - 42s 469ms/step - crf_loss: 0.1302 - accuracy: 0.9982 - val_crf_loss_val: 0.1960 - val_val_accuracy: 0.9951\n",
      "Epoch 47/100\n",
      "90/90 [==============================] - 42s 472ms/step - crf_loss: 0.1269 - accuracy: 0.9982 - val_crf_loss_val: 0.3443 - val_val_accuracy: 0.9955\n",
      "Epoch 48/100\n",
      "90/90 [==============================] - 42s 469ms/step - crf_loss: 0.1245 - accuracy: 0.9982 - val_crf_loss_val: 0.2051 - val_val_accuracy: 0.9952\n",
      "Epoch 49/100\n",
      "90/90 [==============================] - 43s 473ms/step - crf_loss: 0.1270 - accuracy: 0.9982 - val_crf_loss_val: 0.2848 - val_val_accuracy: 0.9954\n",
      "Epoch 50/100\n",
      "90/90 [==============================] - 42s 468ms/step - crf_loss: 0.1198 - accuracy: 0.9983 - val_crf_loss_val: 0.1216 - val_val_accuracy: 0.9952\n",
      "Epoch 51/100\n",
      "40/90 [============>.................] - ETA: 22s - crf_loss: 0.1304 - accuracy: 0.9982"
     ]
    },
    {
     "ename": "KeyboardInterrupt",
     "evalue": "",
     "output_type": "error",
     "traceback": [
      "\u001b[0;31m---------------------------------------------------------------------------\u001b[0m",
      "\u001b[0;31mKeyboardInterrupt\u001b[0m                         Traceback (most recent call last)",
      "\u001b[0;32m<ipython-input-29-11cabfeedfc7>\u001b[0m in \u001b[0;36m<module>\u001b[0;34m\u001b[0m\n\u001b[0;32m----> 1\u001b[0;31m \u001b[0mbilstmcrf_char\u001b[0m\u001b[0;34m.\u001b[0m\u001b[0mfit\u001b[0m\u001b[0;34m(\u001b[0m\u001b[0;34m(\u001b[0m\u001b[0mx_train\u001b[0m\u001b[0;34m,\u001b[0m \u001b[0mx_train_char\u001b[0m\u001b[0;34m)\u001b[0m\u001b[0;34m,\u001b[0m \u001b[0my_train\u001b[0m\u001b[0;34m,\u001b[0m \u001b[0mbatch_size\u001b[0m\u001b[0;34m=\u001b[0m\u001b[0;36m100\u001b[0m\u001b[0;34m,\u001b[0m \u001b[0mepochs\u001b[0m\u001b[0;34m=\u001b[0m\u001b[0;36m100\u001b[0m\u001b[0;34m,\u001b[0m \u001b[0mvalidation_data\u001b[0m\u001b[0;34m=\u001b[0m\u001b[0;34m(\u001b[0m\u001b[0;34m(\u001b[0m\u001b[0mx_val\u001b[0m\u001b[0;34m,\u001b[0m \u001b[0mx_val_char\u001b[0m\u001b[0;34m)\u001b[0m\u001b[0;34m,\u001b[0m \u001b[0my_val\u001b[0m\u001b[0;34m)\u001b[0m\u001b[0;34m,\u001b[0m \u001b[0mcallbacks\u001b[0m\u001b[0;34m=\u001b[0m\u001b[0mcallbacks_list\u001b[0m\u001b[0;34m)\u001b[0m\u001b[0;34m\u001b[0m\u001b[0;34m\u001b[0m\u001b[0m\n\u001b[0m",
      "\u001b[0;32m~/.local/lib/python3.6/site-packages/tensorflow/python/keras/engine/training.py\u001b[0m in \u001b[0;36m_method_wrapper\u001b[0;34m(self, *args, **kwargs)\u001b[0m\n\u001b[1;32m    106\u001b[0m   \u001b[0;32mdef\u001b[0m \u001b[0m_method_wrapper\u001b[0m\u001b[0;34m(\u001b[0m\u001b[0mself\u001b[0m\u001b[0;34m,\u001b[0m \u001b[0;34m*\u001b[0m\u001b[0margs\u001b[0m\u001b[0;34m,\u001b[0m \u001b[0;34m**\u001b[0m\u001b[0mkwargs\u001b[0m\u001b[0;34m)\u001b[0m\u001b[0;34m:\u001b[0m\u001b[0;34m\u001b[0m\u001b[0;34m\u001b[0m\u001b[0m\n\u001b[1;32m    107\u001b[0m     \u001b[0;32mif\u001b[0m \u001b[0;32mnot\u001b[0m \u001b[0mself\u001b[0m\u001b[0;34m.\u001b[0m\u001b[0m_in_multi_worker_mode\u001b[0m\u001b[0;34m(\u001b[0m\u001b[0;34m)\u001b[0m\u001b[0;34m:\u001b[0m  \u001b[0;31m# pylint: disable=protected-access\u001b[0m\u001b[0;34m\u001b[0m\u001b[0;34m\u001b[0m\u001b[0m\n\u001b[0;32m--> 108\u001b[0;31m       \u001b[0;32mreturn\u001b[0m \u001b[0mmethod\u001b[0m\u001b[0;34m(\u001b[0m\u001b[0mself\u001b[0m\u001b[0;34m,\u001b[0m \u001b[0;34m*\u001b[0m\u001b[0margs\u001b[0m\u001b[0;34m,\u001b[0m \u001b[0;34m**\u001b[0m\u001b[0mkwargs\u001b[0m\u001b[0;34m)\u001b[0m\u001b[0;34m\u001b[0m\u001b[0;34m\u001b[0m\u001b[0m\n\u001b[0m\u001b[1;32m    109\u001b[0m \u001b[0;34m\u001b[0m\u001b[0m\n\u001b[1;32m    110\u001b[0m     \u001b[0;31m# Running inside `run_distribute_coordinator` already.\u001b[0m\u001b[0;34m\u001b[0m\u001b[0;34m\u001b[0m\u001b[0;34m\u001b[0m\u001b[0m\n",
      "\u001b[0;32m~/.local/lib/python3.6/site-packages/tensorflow/python/keras/engine/training.py\u001b[0m in \u001b[0;36mfit\u001b[0;34m(self, x, y, batch_size, epochs, verbose, callbacks, validation_split, validation_data, shuffle, class_weight, sample_weight, initial_epoch, steps_per_epoch, validation_steps, validation_batch_size, validation_freq, max_queue_size, workers, use_multiprocessing)\u001b[0m\n\u001b[1;32m   1096\u001b[0m                 batch_size=batch_size):\n\u001b[1;32m   1097\u001b[0m               \u001b[0mcallbacks\u001b[0m\u001b[0;34m.\u001b[0m\u001b[0mon_train_batch_begin\u001b[0m\u001b[0;34m(\u001b[0m\u001b[0mstep\u001b[0m\u001b[0;34m)\u001b[0m\u001b[0;34m\u001b[0m\u001b[0;34m\u001b[0m\u001b[0m\n\u001b[0;32m-> 1098\u001b[0;31m               \u001b[0mtmp_logs\u001b[0m \u001b[0;34m=\u001b[0m \u001b[0mtrain_function\u001b[0m\u001b[0;34m(\u001b[0m\u001b[0miterator\u001b[0m\u001b[0;34m)\u001b[0m\u001b[0;34m\u001b[0m\u001b[0;34m\u001b[0m\u001b[0m\n\u001b[0m\u001b[1;32m   1099\u001b[0m               \u001b[0;32mif\u001b[0m \u001b[0mdata_handler\u001b[0m\u001b[0;34m.\u001b[0m\u001b[0mshould_sync\u001b[0m\u001b[0;34m:\u001b[0m\u001b[0;34m\u001b[0m\u001b[0;34m\u001b[0m\u001b[0m\n\u001b[1;32m   1100\u001b[0m                 \u001b[0mcontext\u001b[0m\u001b[0;34m.\u001b[0m\u001b[0masync_wait\u001b[0m\u001b[0;34m(\u001b[0m\u001b[0;34m)\u001b[0m\u001b[0;34m\u001b[0m\u001b[0;34m\u001b[0m\u001b[0m\n",
      "\u001b[0;32m~/.local/lib/python3.6/site-packages/tensorflow/python/eager/def_function.py\u001b[0m in \u001b[0;36m__call__\u001b[0;34m(self, *args, **kwds)\u001b[0m\n\u001b[1;32m    778\u001b[0m       \u001b[0;32melse\u001b[0m\u001b[0;34m:\u001b[0m\u001b[0;34m\u001b[0m\u001b[0;34m\u001b[0m\u001b[0m\n\u001b[1;32m    779\u001b[0m         \u001b[0mcompiler\u001b[0m \u001b[0;34m=\u001b[0m \u001b[0;34m\"nonXla\"\u001b[0m\u001b[0;34m\u001b[0m\u001b[0;34m\u001b[0m\u001b[0m\n\u001b[0;32m--> 780\u001b[0;31m         \u001b[0mresult\u001b[0m \u001b[0;34m=\u001b[0m \u001b[0mself\u001b[0m\u001b[0;34m.\u001b[0m\u001b[0m_call\u001b[0m\u001b[0;34m(\u001b[0m\u001b[0;34m*\u001b[0m\u001b[0margs\u001b[0m\u001b[0;34m,\u001b[0m \u001b[0;34m**\u001b[0m\u001b[0mkwds\u001b[0m\u001b[0;34m)\u001b[0m\u001b[0;34m\u001b[0m\u001b[0;34m\u001b[0m\u001b[0m\n\u001b[0m\u001b[1;32m    781\u001b[0m \u001b[0;34m\u001b[0m\u001b[0m\n\u001b[1;32m    782\u001b[0m       \u001b[0mnew_tracing_count\u001b[0m \u001b[0;34m=\u001b[0m \u001b[0mself\u001b[0m\u001b[0;34m.\u001b[0m\u001b[0m_get_tracing_count\u001b[0m\u001b[0;34m(\u001b[0m\u001b[0;34m)\u001b[0m\u001b[0;34m\u001b[0m\u001b[0;34m\u001b[0m\u001b[0m\n",
      "\u001b[0;32m~/.local/lib/python3.6/site-packages/tensorflow/python/eager/def_function.py\u001b[0m in \u001b[0;36m_call\u001b[0;34m(self, *args, **kwds)\u001b[0m\n\u001b[1;32m    805\u001b[0m       \u001b[0;31m# In this case we have created variables on the first call, so we run the\u001b[0m\u001b[0;34m\u001b[0m\u001b[0;34m\u001b[0m\u001b[0;34m\u001b[0m\u001b[0m\n\u001b[1;32m    806\u001b[0m       \u001b[0;31m# defunned version which is guaranteed to never create variables.\u001b[0m\u001b[0;34m\u001b[0m\u001b[0;34m\u001b[0m\u001b[0;34m\u001b[0m\u001b[0m\n\u001b[0;32m--> 807\u001b[0;31m       \u001b[0;32mreturn\u001b[0m \u001b[0mself\u001b[0m\u001b[0;34m.\u001b[0m\u001b[0m_stateless_fn\u001b[0m\u001b[0;34m(\u001b[0m\u001b[0;34m*\u001b[0m\u001b[0margs\u001b[0m\u001b[0;34m,\u001b[0m \u001b[0;34m**\u001b[0m\u001b[0mkwds\u001b[0m\u001b[0;34m)\u001b[0m  \u001b[0;31m# pylint: disable=not-callable\u001b[0m\u001b[0;34m\u001b[0m\u001b[0;34m\u001b[0m\u001b[0m\n\u001b[0m\u001b[1;32m    808\u001b[0m     \u001b[0;32melif\u001b[0m \u001b[0mself\u001b[0m\u001b[0;34m.\u001b[0m\u001b[0m_stateful_fn\u001b[0m \u001b[0;32mis\u001b[0m \u001b[0;32mnot\u001b[0m \u001b[0;32mNone\u001b[0m\u001b[0;34m:\u001b[0m\u001b[0;34m\u001b[0m\u001b[0;34m\u001b[0m\u001b[0m\n\u001b[1;32m    809\u001b[0m       \u001b[0;31m# Release the lock early so that multiple threads can perform the call\u001b[0m\u001b[0;34m\u001b[0m\u001b[0;34m\u001b[0m\u001b[0;34m\u001b[0m\u001b[0m\n",
      "\u001b[0;32m~/.local/lib/python3.6/site-packages/tensorflow/python/eager/function.py\u001b[0m in \u001b[0;36m__call__\u001b[0;34m(self, *args, **kwargs)\u001b[0m\n\u001b[1;32m   2827\u001b[0m     \u001b[0;32mwith\u001b[0m \u001b[0mself\u001b[0m\u001b[0;34m.\u001b[0m\u001b[0m_lock\u001b[0m\u001b[0;34m:\u001b[0m\u001b[0;34m\u001b[0m\u001b[0;34m\u001b[0m\u001b[0m\n\u001b[1;32m   2828\u001b[0m       \u001b[0mgraph_function\u001b[0m\u001b[0;34m,\u001b[0m \u001b[0margs\u001b[0m\u001b[0;34m,\u001b[0m \u001b[0mkwargs\u001b[0m \u001b[0;34m=\u001b[0m \u001b[0mself\u001b[0m\u001b[0;34m.\u001b[0m\u001b[0m_maybe_define_function\u001b[0m\u001b[0;34m(\u001b[0m\u001b[0margs\u001b[0m\u001b[0;34m,\u001b[0m \u001b[0mkwargs\u001b[0m\u001b[0;34m)\u001b[0m\u001b[0;34m\u001b[0m\u001b[0;34m\u001b[0m\u001b[0m\n\u001b[0;32m-> 2829\u001b[0;31m     \u001b[0;32mreturn\u001b[0m \u001b[0mgraph_function\u001b[0m\u001b[0;34m.\u001b[0m\u001b[0m_filtered_call\u001b[0m\u001b[0;34m(\u001b[0m\u001b[0margs\u001b[0m\u001b[0;34m,\u001b[0m \u001b[0mkwargs\u001b[0m\u001b[0;34m)\u001b[0m  \u001b[0;31m# pylint: disable=protected-access\u001b[0m\u001b[0;34m\u001b[0m\u001b[0;34m\u001b[0m\u001b[0m\n\u001b[0m\u001b[1;32m   2830\u001b[0m \u001b[0;34m\u001b[0m\u001b[0m\n\u001b[1;32m   2831\u001b[0m   \u001b[0;34m@\u001b[0m\u001b[0mproperty\u001b[0m\u001b[0;34m\u001b[0m\u001b[0;34m\u001b[0m\u001b[0m\n",
      "\u001b[0;32m~/.local/lib/python3.6/site-packages/tensorflow/python/eager/function.py\u001b[0m in \u001b[0;36m_filtered_call\u001b[0;34m(self, args, kwargs, cancellation_manager)\u001b[0m\n\u001b[1;32m   1846\u001b[0m                            resource_variable_ops.BaseResourceVariable))],\n\u001b[1;32m   1847\u001b[0m         \u001b[0mcaptured_inputs\u001b[0m\u001b[0;34m=\u001b[0m\u001b[0mself\u001b[0m\u001b[0;34m.\u001b[0m\u001b[0mcaptured_inputs\u001b[0m\u001b[0;34m,\u001b[0m\u001b[0;34m\u001b[0m\u001b[0;34m\u001b[0m\u001b[0m\n\u001b[0;32m-> 1848\u001b[0;31m         cancellation_manager=cancellation_manager)\n\u001b[0m\u001b[1;32m   1849\u001b[0m \u001b[0;34m\u001b[0m\u001b[0m\n\u001b[1;32m   1850\u001b[0m   \u001b[0;32mdef\u001b[0m \u001b[0m_call_flat\u001b[0m\u001b[0;34m(\u001b[0m\u001b[0mself\u001b[0m\u001b[0;34m,\u001b[0m \u001b[0margs\u001b[0m\u001b[0;34m,\u001b[0m \u001b[0mcaptured_inputs\u001b[0m\u001b[0;34m,\u001b[0m \u001b[0mcancellation_manager\u001b[0m\u001b[0;34m=\u001b[0m\u001b[0;32mNone\u001b[0m\u001b[0;34m)\u001b[0m\u001b[0;34m:\u001b[0m\u001b[0;34m\u001b[0m\u001b[0;34m\u001b[0m\u001b[0m\n",
      "\u001b[0;32m~/.local/lib/python3.6/site-packages/tensorflow/python/eager/function.py\u001b[0m in \u001b[0;36m_call_flat\u001b[0;34m(self, args, captured_inputs, cancellation_manager)\u001b[0m\n\u001b[1;32m   1922\u001b[0m       \u001b[0;31m# No tape is watching; skip to running the function.\u001b[0m\u001b[0;34m\u001b[0m\u001b[0;34m\u001b[0m\u001b[0;34m\u001b[0m\u001b[0m\n\u001b[1;32m   1923\u001b[0m       return self._build_call_outputs(self._inference_function.call(\n\u001b[0;32m-> 1924\u001b[0;31m           ctx, args, cancellation_manager=cancellation_manager))\n\u001b[0m\u001b[1;32m   1925\u001b[0m     forward_backward = self._select_forward_and_backward_functions(\n\u001b[1;32m   1926\u001b[0m         \u001b[0margs\u001b[0m\u001b[0;34m,\u001b[0m\u001b[0;34m\u001b[0m\u001b[0;34m\u001b[0m\u001b[0m\n",
      "\u001b[0;32m~/.local/lib/python3.6/site-packages/tensorflow/python/eager/function.py\u001b[0m in \u001b[0;36mcall\u001b[0;34m(self, ctx, args, cancellation_manager)\u001b[0m\n\u001b[1;32m    548\u001b[0m               \u001b[0minputs\u001b[0m\u001b[0;34m=\u001b[0m\u001b[0margs\u001b[0m\u001b[0;34m,\u001b[0m\u001b[0;34m\u001b[0m\u001b[0;34m\u001b[0m\u001b[0m\n\u001b[1;32m    549\u001b[0m               \u001b[0mattrs\u001b[0m\u001b[0;34m=\u001b[0m\u001b[0mattrs\u001b[0m\u001b[0;34m,\u001b[0m\u001b[0;34m\u001b[0m\u001b[0;34m\u001b[0m\u001b[0m\n\u001b[0;32m--> 550\u001b[0;31m               ctx=ctx)\n\u001b[0m\u001b[1;32m    551\u001b[0m         \u001b[0;32melse\u001b[0m\u001b[0;34m:\u001b[0m\u001b[0;34m\u001b[0m\u001b[0;34m\u001b[0m\u001b[0m\n\u001b[1;32m    552\u001b[0m           outputs = execute.execute_with_cancellation(\n",
      "\u001b[0;32m~/.local/lib/python3.6/site-packages/tensorflow/python/eager/execute.py\u001b[0m in \u001b[0;36mquick_execute\u001b[0;34m(op_name, num_outputs, inputs, attrs, ctx, name)\u001b[0m\n\u001b[1;32m     58\u001b[0m     \u001b[0mctx\u001b[0m\u001b[0;34m.\u001b[0m\u001b[0mensure_initialized\u001b[0m\u001b[0;34m(\u001b[0m\u001b[0;34m)\u001b[0m\u001b[0;34m\u001b[0m\u001b[0;34m\u001b[0m\u001b[0m\n\u001b[1;32m     59\u001b[0m     tensors = pywrap_tfe.TFE_Py_Execute(ctx._handle, device_name, op_name,\n\u001b[0;32m---> 60\u001b[0;31m                                         inputs, attrs, num_outputs)\n\u001b[0m\u001b[1;32m     61\u001b[0m   \u001b[0;32mexcept\u001b[0m \u001b[0mcore\u001b[0m\u001b[0;34m.\u001b[0m\u001b[0m_NotOkStatusException\u001b[0m \u001b[0;32mas\u001b[0m \u001b[0me\u001b[0m\u001b[0;34m:\u001b[0m\u001b[0;34m\u001b[0m\u001b[0;34m\u001b[0m\u001b[0m\n\u001b[1;32m     62\u001b[0m     \u001b[0;32mif\u001b[0m \u001b[0mname\u001b[0m \u001b[0;32mis\u001b[0m \u001b[0;32mnot\u001b[0m \u001b[0;32mNone\u001b[0m\u001b[0;34m:\u001b[0m\u001b[0;34m\u001b[0m\u001b[0;34m\u001b[0m\u001b[0m\n",
      "\u001b[0;31mKeyboardInterrupt\u001b[0m: "
     ]
    }
   ],
   "source": [
    "bilstmcrf_char.fit((x_train, x_train_char), y_train, batch_size=100, epochs=100, validation_data=((x_val, x_val_char), y_val), callbacks=callbacks_list)"
   ]
  },
  {
   "cell_type": "code",
   "execution_count": null,
   "metadata": {},
   "outputs": [],
   "source": [
    "y_pred, _, lens_text, _ = bilstmcrf_char((x_test, x_test_char))\n",
    "mask_scores(y_test, y_pred, lens_text)"
   ]
  },
  {
   "cell_type": "code",
   "execution_count": null,
   "metadata": {},
   "outputs": [],
   "source": []
  },
  {
   "cell_type": "code",
   "execution_count": null,
   "metadata": {},
   "outputs": [],
   "source": [
    "bilstmcrf_char.load_weights(checkpoint_filepath)"
   ]
  },
  {
   "cell_type": "code",
   "execution_count": 30,
   "metadata": {},
   "outputs": [
    {
     "name": "stdout",
     "output_type": "stream",
     "text": [
      "WARNING:tensorflow:Layer model_with_crf_loss is casting an input tensor from dtype float64 to the layer's dtype of float32, which is new behavior in TensorFlow 2.  The layer has dtype float32 because its dtype defaults to floatx.\n",
      "\n",
      "If you intended to run this layer in float32, you can safely ignore this warning. If in doubt, this warning is likely only an issue if you are porting a TensorFlow 1.X model to TensorFlow 2.\n",
      "\n",
      "To change all layers to have dtype float64 by default, call `tf.keras.backend.set_floatx('float64')`. To change just this layer, pass dtype='float64' to the layer constructor. If you are the author of this layer, you can disable autocasting by passing autocast=False to the base Layer constructor.\n",
      "\n"
     ]
    },
    {
     "data": {
      "text/plain": [
       "(0.99343276,\n",
       " array([0.99736943, 0.89156627, 0.81818182, 0.94252874, 0.91428571,\n",
       "        0.91286307, 0.85333333]),\n",
       " array([0.99690416, 0.92789969, 0.9       , 0.93447293, 0.92753623,\n",
       "        0.90163934, 0.85333333]),\n",
       " array([0.99713674, 0.9093702 , 0.85714286, 0.93848355, 0.92086331,\n",
       "        0.90721649, 0.85333333]))"
      ]
     },
     "execution_count": 30,
     "metadata": {},
     "output_type": "execute_result"
    }
   ],
   "source": [
    "y_pred, _, lens_text, _ = bilstmcrf_char((x_test, x_test_char))\n",
    "mask_scores(y_test, y_pred, lens_text)"
   ]
  },
  {
   "cell_type": "code",
   "execution_count": 31,
   "metadata": {},
   "outputs": [
    {
     "name": "stdout",
     "output_type": "stream",
     "text": [
      "WARNING:tensorflow:From /home/hspark8/.local/lib/python3.6/site-packages/tensorflow/python/training/tracking/tracking.py:111: Model.state_updates (from tensorflow.python.keras.engine.training) is deprecated and will be removed in a future version.\n",
      "Instructions for updating:\n",
      "This property should not be used in TensorFlow 2.0, as updates are applied automatically.\n",
      "WARNING:tensorflow:From /home/hspark8/.local/lib/python3.6/site-packages/tensorflow/python/keras/engine/training.py:2309: Layer.updates (from tensorflow.python.keras.engine.base_layer) is deprecated and will be removed in a future version.\n",
      "Instructions for updating:\n",
      "This property should not be used in TensorFlow 2.0, as updates are applied automatically.\n",
      "INFO:tensorflow:Assets written to: ./keras/bilstmcrf_char_tmp/assets\n"
     ]
    }
   ],
   "source": [
    "bilstmcrf_char.save(\"./keras/bilstmcrf_char_tmp\")"
   ]
  },
  {
   "cell_type": "code",
   "execution_count": 57,
   "metadata": {},
   "outputs": [],
   "source": [
    "#load_model = tf.keras.models.load_model(\"./keras/bilstmcrf_char\")"
   ]
  },
  {
   "cell_type": "code",
   "execution_count": 54,
   "metadata": {},
   "outputs": [
    {
     "ename": "NameError",
     "evalue": "name 'load_model' is not defined",
     "output_type": "error",
     "traceback": [
      "\u001b[0;31m---------------------------------------------------------------------------\u001b[0m",
      "\u001b[0;31mNameError\u001b[0m                                 Traceback (most recent call last)",
      "\u001b[0;32m<ipython-input-54-e8cc84559bec>\u001b[0m in \u001b[0;36m<module>\u001b[0;34m\u001b[0m\n\u001b[0;32m----> 1\u001b[0;31m \u001b[0my_pred\u001b[0m\u001b[0;34m,\u001b[0m \u001b[0m_\u001b[0m\u001b[0;34m,\u001b[0m \u001b[0mlens_text\u001b[0m\u001b[0;34m,\u001b[0m \u001b[0m_\u001b[0m \u001b[0;34m=\u001b[0m \u001b[0mload_model\u001b[0m\u001b[0;34m(\u001b[0m\u001b[0;34m(\u001b[0m\u001b[0mx_test\u001b[0m\u001b[0;34m,\u001b[0m \u001b[0mx_test_char\u001b[0m\u001b[0;34m)\u001b[0m\u001b[0;34m)\u001b[0m\u001b[0;34m\u001b[0m\u001b[0;34m\u001b[0m\u001b[0m\n\u001b[0m\u001b[1;32m      2\u001b[0m \u001b[0mmask_scores\u001b[0m\u001b[0;34m(\u001b[0m\u001b[0my_test\u001b[0m\u001b[0;34m,\u001b[0m \u001b[0my_pred\u001b[0m\u001b[0;34m,\u001b[0m \u001b[0mlens_text\u001b[0m\u001b[0;34m)\u001b[0m\u001b[0;34m\u001b[0m\u001b[0;34m\u001b[0m\u001b[0m\n",
      "\u001b[0;31mNameError\u001b[0m: name 'load_model' is not defined"
     ]
    }
   ],
   "source": [
    "y_pred, _, lens_text, _ = load_model((x_test, x_test_char))\n",
    "mask_scores(y_test, y_pred, lens_text)"
   ]
  },
  {
   "cell_type": "code",
   "execution_count": 57,
   "metadata": {},
   "outputs": [
    {
     "data": {
      "text/plain": [
       "(0.99449575,\n",
       " array([0.99790595, 0.95806452, 0.84375   , 0.92565598, 0.85263158,\n",
       "        0.8793456 , 0.88489209]),\n",
       " array([0.99794734, 0.93838863, 0.85714286, 0.93245228, 0.83505155,\n",
       "        0.89958159, 0.86013986]),\n",
       " array([0.99792664, 0.9481245 , 0.8503937 , 0.9290417 , 0.84375   ,\n",
       "        0.8893485 , 0.87234043]))"
      ]
     },
     "execution_count": 57,
     "metadata": {},
     "output_type": "execute_result"
    }
   ],
   "source": [
    "a"
   ]
  },
  {
   "cell_type": "markdown",
   "metadata": {},
   "source": [
    "# Kfold"
   ]
  },
  {
   "cell_type": "code",
   "execution_count": null,
   "metadata": {},
   "outputs": [],
   "source": []
  }
 ],
 "metadata": {
  "kernelspec": {
   "display_name": "Python 3",
   "language": "python",
   "name": "python3"
  },
  "language_info": {
   "codemirror_mode": {
    "name": "ipython",
    "version": 3
   },
   "file_extension": ".py",
   "mimetype": "text/x-python",
   "name": "python",
   "nbconvert_exporter": "python",
   "pygments_lexer": "ipython3",
   "version": "3.6.10"
  }
 },
 "nbformat": 4,
 "nbformat_minor": 4
}
